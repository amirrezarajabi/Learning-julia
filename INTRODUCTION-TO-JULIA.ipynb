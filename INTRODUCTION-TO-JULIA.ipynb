{
 "cells": [
  {
   "cell_type": "markdown",
   "id": "8e0407e4",
   "metadata": {},
   "source": [
    "## Array"
   ]
  },
  {
   "cell_type": "code",
   "execution_count": 1,
   "id": "6c420081",
   "metadata": {},
   "outputs": [
    {
     "data": {
      "text/plain": [
       "5-element Vector{Int64}:\n",
       " 1\n",
       " 2\n",
       " 3\n",
       " 4\n",
       " 5"
      ]
     },
     "execution_count": 1,
     "metadata": {},
     "output_type": "execute_result"
    }
   ],
   "source": [
    "a1 = [1, 2, 3, 4, 5]\n",
    "a1"
   ]
  },
  {
   "cell_type": "code",
   "execution_count": 2,
   "id": "f0ad9f95",
   "metadata": {},
   "outputs": [
    {
     "data": {
      "text/plain": [
       "5-element Vector{Float64}:\n",
       " 1.0\n",
       " 2.0\n",
       " 3.0\n",
       " 4.0\n",
       " 5.0"
      ]
     },
     "execution_count": 2,
     "metadata": {},
     "output_type": "execute_result"
    }
   ],
   "source": [
    "a2 = [1, 2.0, 3, 4, 5]"
   ]
  },
  {
   "cell_type": "code",
   "execution_count": 3,
   "id": "3fde9c1c",
   "metadata": {},
   "outputs": [
    {
     "data": {
      "text/plain": [
       "3-element Vector{String}:\n",
       " \"Linear\"\n",
       " \"algebra\"\n",
       " \"Fall\""
      ]
     },
     "execution_count": 3,
     "metadata": {},
     "output_type": "execute_result"
    }
   ],
   "source": [
    "s = [\"Linear\", \"algebra\", \"Fall\"]"
   ]
  },
  {
   "cell_type": "code",
   "execution_count": 4,
   "id": "e911e4ce",
   "metadata": {},
   "outputs": [
    {
     "data": {
      "text/plain": [
       "1-element Vector{Vector{String}}:\n",
       " [\"Linear\", \"algebra\", \"Fall\"]"
      ]
     },
     "execution_count": 4,
     "metadata": {},
     "output_type": "execute_result"
    }
   ],
   "source": [
    "ss = [[\"Linear\", \"algebra\", \"Fall\"]]"
   ]
  },
  {
   "cell_type": "code",
   "execution_count": 5,
   "id": "fea867ef",
   "metadata": {},
   "outputs": [
    {
     "data": {
      "text/plain": [
       "3-element Vector{Function}:\n",
       " print (generic function with 31 methods)\n",
       " println (generic function with 3 methods)\n",
       " printstyled (generic function with 2 methods)"
      ]
     },
     "execution_count": 5,
     "metadata": {},
     "output_type": "execute_result"
    }
   ],
   "source": [
    "f = [print, println, printstyled]"
   ]
  },
  {
   "cell_type": "code",
   "execution_count": 6,
   "id": "d3a8306b",
   "metadata": {},
   "outputs": [
    {
     "data": {
      "text/plain": [
       "3-element Vector{Any}:\n",
       "  \"julia\"\n",
       " 5\n",
       "  print (generic function with 31 methods)"
      ]
     },
     "execution_count": 6,
     "metadata": {},
     "output_type": "execute_result"
    }
   ],
   "source": [
    "array = [\"julia\", 5, f[1]]"
   ]
  },
  {
   "cell_type": "code",
   "execution_count": 8,
   "id": "79797676",
   "metadata": {},
   "outputs": [
    {
     "data": {
      "text/plain": [
       "5-element Vector{Int64}:\n",
       " 1\n",
       " 2\n",
       " 3\n",
       " 4\n",
       " 5"
      ]
     },
     "execution_count": 8,
     "metadata": {},
     "output_type": "execute_result"
    }
   ],
   "source": [
    "int_type = Int64[1, 2, 3, 4, 5]"
   ]
  },
  {
   "cell_type": "code",
   "execution_count": 9,
   "id": "de994024",
   "metadata": {},
   "outputs": [
    {
     "data": {
      "text/plain": [
       "5-element Vector{Float64}:\n",
       " 1.0\n",
       " 2.0\n",
       " 3.0\n",
       " 4.0\n",
       " 5.0"
      ]
     },
     "execution_count": 9,
     "metadata": {},
     "output_type": "execute_result"
    }
   ],
   "source": [
    "float_type = Float64[1, 2, 3, 4, 5]"
   ]
  },
  {
   "cell_type": "code",
   "execution_count": 10,
   "id": "0181a493",
   "metadata": {},
   "outputs": [
    {
     "data": {
      "text/plain": [
       "2×4 Matrix{Int64}:\n",
       " 1  2  3  4\n",
       " 5  6  7  8"
      ]
     },
     "execution_count": 10,
     "metadata": {},
     "output_type": "execute_result"
    }
   ],
   "source": [
    "array2d = [1 2 3 4; 5 6 7 8]"
   ]
  },
  {
   "cell_type": "code",
   "execution_count": 11,
   "id": "5e7fd913",
   "metadata": {},
   "outputs": [
    {
     "data": {
      "text/plain": [
       "1×4 Matrix{Int64}:\n",
       " 1  2  3  4"
      ]
     },
     "execution_count": 11,
     "metadata": {},
     "output_type": "execute_result"
    }
   ],
   "source": [
    "vector = [1 2 3 4]"
   ]
  },
  {
   "cell_type": "code",
   "execution_count": 16,
   "id": "2e0abc6b",
   "metadata": {},
   "outputs": [
    {
     "data": {
      "text/plain": [
       "7"
      ]
     },
     "execution_count": 16,
     "metadata": {},
     "output_type": "execute_result"
    }
   ],
   "source": [
    "array2d[2, 3]"
   ]
  },
  {
   "cell_type": "code",
   "execution_count": 17,
   "id": "c17d2456",
   "metadata": {},
   "outputs": [
    {
     "data": {
      "text/plain": [
       "3-element Vector{Float64}:\n",
       " 0.23529122323746154\n",
       " 0.7100330503366088\n",
       " 0.6100772655384339"
      ]
     },
     "execution_count": 17,
     "metadata": {},
     "output_type": "execute_result"
    }
   ],
   "source": [
    "rand(3)"
   ]
  },
  {
   "cell_type": "code",
   "execution_count": 18,
   "id": "3364efe8",
   "metadata": {},
   "outputs": [
    {
     "data": {
      "text/plain": [
       "3×4 Matrix{Float64}:\n",
       " 0.969238  0.842508  0.123957  0.570908\n",
       " 0.767941  0.364906  0.74659   0.398564\n",
       " 0.700161  0.120025  0.17142   0.69457"
      ]
     },
     "execution_count": 18,
     "metadata": {},
     "output_type": "execute_result"
    }
   ],
   "source": [
    "rand(3, 4)"
   ]
  },
  {
   "cell_type": "code",
   "execution_count": 19,
   "id": "a92093f8",
   "metadata": {},
   "outputs": [
    {
     "data": {
      "text/plain": [
       "3×3 Matrix{Float64}:\n",
       " 1.19605   1.40787   0.610997\n",
       " 1.02492   0.596501  0.557774\n",
       " 0.710854  1.03049   0.259217"
      ]
     },
     "execution_count": 19,
     "metadata": {},
     "output_type": "execute_result"
    }
   ],
   "source": [
    "rand(3, 4) * rand(4, 3)"
   ]
  },
  {
   "cell_type": "markdown",
   "id": "d85f9496",
   "metadata": {},
   "source": [
    "## Ranges"
   ]
  },
  {
   "cell_type": "code",
   "execution_count": 21,
   "id": "21e55d48",
   "metadata": {},
   "outputs": [
    {
     "data": {
      "text/plain": [
       "6-element Vector{Int64}:\n",
       " 1\n",
       " 2\n",
       " 3\n",
       " 4\n",
       " 5\n",
       " 6"
      ]
     },
     "execution_count": 21,
     "metadata": {},
     "output_type": "execute_result"
    }
   ],
   "source": [
    "c = collect(1: 6)"
   ]
  },
  {
   "cell_type": "code",
   "execution_count": 23,
   "id": "fc35a508",
   "metadata": {},
   "outputs": [
    {
     "data": {
      "text/plain": [
       "4-element Vector{Float64}:\n",
       " 1.5\n",
       " 2.5\n",
       " 3.5\n",
       " 4.5"
      ]
     },
     "execution_count": 23,
     "metadata": {},
     "output_type": "execute_result"
    }
   ],
   "source": [
    "collect(1.5: 4.5)"
   ]
  },
  {
   "cell_type": "code",
   "execution_count": 24,
   "id": "5135de7e",
   "metadata": {},
   "outputs": [
    {
     "data": {
      "text/plain": [
       "19-element Vector{Float64}:\n",
       "   1.0\n",
       "   6.5\n",
       "  12.0\n",
       "  17.5\n",
       "  23.0\n",
       "  28.5\n",
       "  34.0\n",
       "  39.5\n",
       "  45.0\n",
       "  50.5\n",
       "  56.0\n",
       "  61.5\n",
       "  67.0\n",
       "  72.5\n",
       "  78.0\n",
       "  83.5\n",
       "  89.0\n",
       "  94.5\n",
       " 100.0"
      ]
     },
     "execution_count": 24,
     "metadata": {},
     "output_type": "execute_result"
    }
   ],
   "source": [
    "collect(1: 5.5:100.5)"
   ]
  },
  {
   "cell_type": "code",
   "execution_count": 25,
   "id": "32a4b26c",
   "metadata": {},
   "outputs": [
    {
     "data": {
      "text/plain": [
       "6-element Vector{Int64}:\n",
       " 1\n",
       " 2\n",
       " 3\n",
       " 4\n",
       " 5\n",
       " 6"
      ]
     },
     "execution_count": 25,
     "metadata": {},
     "output_type": "execute_result"
    }
   ],
   "source": [
    "c"
   ]
  },
  {
   "cell_type": "code",
   "execution_count": 26,
   "id": "6b010508",
   "metadata": {},
   "outputs": [
    {
     "data": {
      "text/plain": [
       "6"
      ]
     },
     "execution_count": 26,
     "metadata": {},
     "output_type": "execute_result"
    }
   ],
   "source": [
    "c[end]"
   ]
  },
  {
   "cell_type": "code",
   "execution_count": 27,
   "id": "57438f96",
   "metadata": {},
   "outputs": [
    {
     "data": {
      "text/plain": [
       "(6,)"
      ]
     },
     "execution_count": 27,
     "metadata": {},
     "output_type": "execute_result"
    }
   ],
   "source": [
    "size(c)"
   ]
  },
  {
   "cell_type": "code",
   "execution_count": 28,
   "id": "b9fbcfdd",
   "metadata": {},
   "outputs": [
    {
     "data": {
      "text/plain": [
       "3×3 Matrix{Float64}:\n",
       " 0.564653  0.0723283  0.925397\n",
       " 0.18704   0.240214   0.410501\n",
       " 0.318941  0.55561    0.63289"
      ]
     },
     "execution_count": 28,
     "metadata": {},
     "output_type": "execute_result"
    }
   ],
   "source": [
    "d = rand(3, 3)"
   ]
  },
  {
   "cell_type": "code",
   "execution_count": 29,
   "id": "dae0c14a",
   "metadata": {},
   "outputs": [
    {
     "data": {
      "text/plain": [
       "(3, 3)"
      ]
     },
     "execution_count": 29,
     "metadata": {},
     "output_type": "execute_result"
    }
   ],
   "source": [
    "size(d)"
   ]
  },
  {
   "cell_type": "code",
   "execution_count": 30,
   "id": "54ef9108",
   "metadata": {},
   "outputs": [
    {
     "data": {
      "text/plain": [
       "6-element Vector{Int64}:\n",
       " 1\n",
       " 2\n",
       " 3\n",
       " 4\n",
       " 5\n",
       " 6"
      ]
     },
     "execution_count": 30,
     "metadata": {},
     "output_type": "execute_result"
    }
   ],
   "source": [
    "c"
   ]
  },
  {
   "cell_type": "code",
   "execution_count": 31,
   "id": "c43913b1",
   "metadata": {},
   "outputs": [
    {
     "data": {
      "text/plain": [
       "3-element Vector{Int64}:\n",
       " 2\n",
       " 3\n",
       " 4"
      ]
     },
     "execution_count": 31,
     "metadata": {},
     "output_type": "execute_result"
    }
   ],
   "source": [
    "c[[2, 3, 4]]"
   ]
  },
  {
   "cell_type": "markdown",
   "id": "1d40291e",
   "metadata": {},
   "source": [
    "## Tuples"
   ]
  },
  {
   "cell_type": "code",
   "execution_count": 32,
   "id": "5003d589",
   "metadata": {},
   "outputs": [
    {
     "data": {
      "text/plain": [
       "(1, 2, 3, 4, 5)"
      ]
     },
     "execution_count": 32,
     "metadata": {},
     "output_type": "execute_result"
    }
   ],
   "source": [
    "t1 = (1, 2, 3, 4, 5)"
   ]
  },
  {
   "cell_type": "code",
   "execution_count": 33,
   "id": "3e9151a7",
   "metadata": {},
   "outputs": [
    {
     "data": {
      "text/plain": [
       "1"
      ]
     },
     "execution_count": 33,
     "metadata": {},
     "output_type": "execute_result"
    }
   ],
   "source": [
    "t1[1]"
   ]
  },
  {
   "cell_type": "code",
   "execution_count": 35,
   "id": "29f69767",
   "metadata": {},
   "outputs": [
    {
     "ename": "LoadError",
     "evalue": "MethodError: no method matching setindex!(::NTuple{5, Int64}, ::Int64, ::Int64)",
     "output_type": "error",
     "traceback": [
      "MethodError: no method matching setindex!(::NTuple{5, Int64}, ::Int64, ::Int64)",
      "",
      "Stacktrace:",
      " [1] top-level scope",
      "   @ In[35]:1",
      " [2] eval",
      "   @ .\\boot.jl:360 [inlined]",
      " [3] include_string(mapexpr::typeof(REPL.softscope), mod::Module, code::String, filename::String)",
      "   @ Base .\\loading.jl:1116"
     ]
    }
   ],
   "source": [
    "t1[2] = 4"
   ]
  },
  {
   "cell_type": "code",
   "execution_count": 36,
   "id": "066388f7",
   "metadata": {},
   "outputs": [
    {
     "data": {
      "text/plain": [
       "(S = (90, 100), M = (95, 100), E = (75, 100))"
      ]
     },
     "execution_count": 36,
     "metadata": {},
     "output_type": "execute_result"
    }
   ],
   "source": [
    "marks = (S = (90, 100), M = (95, 100), E = (75, 100))"
   ]
  },
  {
   "cell_type": "code",
   "execution_count": 37,
   "id": "92f2ee2d",
   "metadata": {},
   "outputs": [
    {
     "data": {
      "text/plain": [
       "(75, 100)"
      ]
     },
     "execution_count": 37,
     "metadata": {},
     "output_type": "execute_result"
    }
   ],
   "source": [
    "marks.E"
   ]
  },
  {
   "cell_type": "code",
   "execution_count": 38,
   "id": "4aca9c65",
   "metadata": {},
   "outputs": [
    {
     "data": {
      "text/plain": [
       "90"
      ]
     },
     "execution_count": 38,
     "metadata": {},
     "output_type": "execute_result"
    }
   ],
   "source": [
    "marks.S[1]"
   ]
  },
  {
   "cell_type": "code",
   "execution_count": 39,
   "id": "4f2966f2",
   "metadata": {},
   "outputs": [
    {
     "data": {
      "text/plain": [
       "(H = (90, 100), C = (95, 100), G = (75, 100))"
      ]
     },
     "execution_count": 39,
     "metadata": {},
     "output_type": "execute_result"
    }
   ],
   "source": [
    "marks2 = (H = (90, 100), C = (95, 100), G = (75, 100))"
   ]
  },
  {
   "cell_type": "code",
   "execution_count": 40,
   "id": "5d3a75bd",
   "metadata": {},
   "outputs": [
    {
     "data": {
      "text/plain": [
       "(S = (90, 100), M = (95, 100), E = (75, 100), H = (90, 100), C = (95, 100), G = (75, 100))"
      ]
     },
     "execution_count": 40,
     "metadata": {},
     "output_type": "execute_result"
    }
   ],
   "source": [
    "merge(marks, marks2)"
   ]
  },
  {
   "cell_type": "markdown",
   "id": "d710b8f7",
   "metadata": {},
   "source": [
    "## Dictionary"
   ]
  },
  {
   "cell_type": "code",
   "execution_count": 46,
   "id": "74f0ace6",
   "metadata": {},
   "outputs": [
    {
     "data": {
      "text/plain": [
       "Dict{String, Int64} with 3 entries:\n",
       "  \"c2\" => 100\n",
       "  \"c1\" => 10\n",
       "  \"c0\" => 1"
      ]
     },
     "execution_count": 46,
     "metadata": {},
     "output_type": "execute_result"
    }
   ],
   "source": [
    "cars = Dict(\"c1\"  => 10, \"c2\" => 100, \"c0\" => 1)"
   ]
  },
  {
   "cell_type": "code",
   "execution_count": 47,
   "id": "f8fa3895",
   "metadata": {},
   "outputs": [
    {
     "data": {
      "text/plain": [
       "10"
      ]
     },
     "execution_count": 47,
     "metadata": {},
     "output_type": "execute_result"
    }
   ],
   "source": [
    "cars[\"c1\"]"
   ]
  },
  {
   "cell_type": "code",
   "execution_count": 48,
   "id": "130febfe",
   "metadata": {},
   "outputs": [
    {
     "data": {
      "text/plain": [
       "Dict{Symbol, Int64} with 3 entries:\n",
       "  :c0 => 1\n",
       "  :c1 => 10\n",
       "  :c2 => 100"
      ]
     },
     "execution_count": 48,
     "metadata": {},
     "output_type": "execute_result"
    }
   ],
   "source": [
    "cars2 = Dict(:c1  => 10, :c2 => 100, :c0 => 1)"
   ]
  },
  {
   "cell_type": "code",
   "execution_count": 49,
   "id": "579b6609",
   "metadata": {},
   "outputs": [
    {
     "data": {
      "text/plain": [
       "(true, false, true, false)"
      ]
     },
     "execution_count": 49,
     "metadata": {},
     "output_type": "execute_result"
    }
   ],
   "source": [
    "haskey(cars, \"c1\"), haskey(cars, \"c3\"), haskey(cars2, :c1), haskey(cars2, :c3)"
   ]
  },
  {
   "cell_type": "code",
   "execution_count": 50,
   "id": "cc9863d8",
   "metadata": {},
   "outputs": [
    {
     "data": {
      "text/plain": [
       "Dict{String, Int64} with 2 entries:\n",
       "  \"c2\" => 100\n",
       "  \"c0\" => 1"
      ]
     },
     "execution_count": 50,
     "metadata": {},
     "output_type": "execute_result"
    }
   ],
   "source": [
    "delete!(cars, \"c1\")"
   ]
  },
  {
   "cell_type": "code",
   "execution_count": 51,
   "id": "bfae4cea",
   "metadata": {},
   "outputs": [
    {
     "data": {
      "text/plain": [
       "KeySet for a Dict{String, Int64} with 2 entries. Keys:\n",
       "  \"c2\"\n",
       "  \"c0\""
      ]
     },
     "execution_count": 51,
     "metadata": {},
     "output_type": "execute_result"
    }
   ],
   "source": [
    "keys(cars)"
   ]
  },
  {
   "cell_type": "code",
   "execution_count": 52,
   "id": "553e3586",
   "metadata": {},
   "outputs": [
    {
     "data": {
      "text/plain": [
       "ValueIterator for a Dict{String, Int64} with 2 entries. Values:\n",
       "  100\n",
       "  1"
      ]
     },
     "execution_count": 52,
     "metadata": {},
     "output_type": "execute_result"
    }
   ],
   "source": [
    "values(cars)"
   ]
  },
  {
   "cell_type": "code",
   "execution_count": 57,
   "id": "3b7db33d",
   "metadata": {},
   "outputs": [
    {
     "data": {
      "text/plain": [
       "KeySet for a Dict{String, Int64} with 2 entries. Keys:\n",
       "  \"c2\"\n",
       "  \"c0\""
      ]
     },
     "execution_count": 57,
     "metadata": {},
     "output_type": "execute_result"
    }
   ],
   "source": [
    "d = keys(cars)"
   ]
  },
  {
   "cell_type": "code",
   "execution_count": 58,
   "id": "476e7555",
   "metadata": {},
   "outputs": [
    {
     "data": {
      "text/plain": [
       "KeySet for a Dict{String, Int64} with 2 entries. Keys:\n",
       "  \"c2\"\n",
       "  \"c0\""
      ]
     },
     "execution_count": 58,
     "metadata": {},
     "output_type": "execute_result"
    }
   ],
   "source": [
    "d"
   ]
  },
  {
   "cell_type": "code",
   "execution_count": 64,
   "id": "c7fc5e99",
   "metadata": {},
   "outputs": [
    {
     "name": "stdout",
     "output_type": "stream",
     "text": [
      "4 10\n",
      "c Hello\n",
      "b 2\n",
      "a 1\n"
     ]
    }
   ],
   "source": [
    "Dict1 = Dict(\"a\" => 1, \"b\" => 2, \"c\" => \"Hello\", 4 => 10)\n",
    "dd = keys(Dict1)\n",
    "for i in dd\n",
    "    println(i, \" \", Dict1[i])\n",
    "end"
   ]
  },
  {
   "cell_type": "code",
   "execution_count": 65,
   "id": "8efa90c4",
   "metadata": {},
   "outputs": [
    {
     "data": {
      "text/plain": [
       "Dict{Any, Int64} with 5 entries:\n",
       "  \"c2\" => 100\n",
       "  \"c0\" => 1\n",
       "  :c0  => 1\n",
       "  :c1  => 10\n",
       "  :c2  => 100"
      ]
     },
     "execution_count": 65,
     "metadata": {},
     "output_type": "execute_result"
    }
   ],
   "source": [
    "merge(cars, cars2)"
   ]
  },
  {
   "cell_type": "markdown",
   "id": "48d62495",
   "metadata": {},
   "source": [
    "## Set"
   ]
  },
  {
   "cell_type": "code",
   "execution_count": 66,
   "id": "c17e6857",
   "metadata": {},
   "outputs": [
    {
     "data": {
      "text/plain": [
       "Set{String} with 3 elements:\n",
       "  \"1\"\n",
       "  \"2\"\n",
       "  \"3\""
      ]
     },
     "execution_count": 66,
     "metadata": {},
     "output_type": "execute_result"
    }
   ],
   "source": [
    "s_b = Set([\"1\", \"2\", \"3\"])"
   ]
  },
  {
   "cell_type": "code",
   "execution_count": 67,
   "id": "a6667617",
   "metadata": {},
   "outputs": [
    {
     "data": {
      "text/plain": [
       "true"
      ]
     },
     "execution_count": 67,
     "metadata": {},
     "output_type": "execute_result"
    }
   ],
   "source": [
    "in(\"1\", s_b)"
   ]
  },
  {
   "cell_type": "code",
   "execution_count": 68,
   "id": "ae746047",
   "metadata": {},
   "outputs": [
    {
     "data": {
      "text/plain": [
       "Set{String} with 3 elements:\n",
       "  \"4\"\n",
       "  \"5\"\n",
       "  \"3\""
      ]
     },
     "execution_count": 68,
     "metadata": {},
     "output_type": "execute_result"
    }
   ],
   "source": [
    "s_b2 = Set([\"3\", \"4\", \"5\"])"
   ]
  },
  {
   "cell_type": "code",
   "execution_count": 70,
   "id": "9e6bafbb",
   "metadata": {},
   "outputs": [
    {
     "data": {
      "text/plain": [
       "Set{String} with 5 elements:\n",
       "  \"4\"\n",
       "  \"1\"\n",
       "  \"5\"\n",
       "  \"2\"\n",
       "  \"3\""
      ]
     },
     "execution_count": 70,
     "metadata": {},
     "output_type": "execute_result"
    }
   ],
   "source": [
    "union(s_b, s_b2)"
   ]
  },
  {
   "cell_type": "code",
   "execution_count": 71,
   "id": "8bbd6f87",
   "metadata": {},
   "outputs": [
    {
     "data": {
      "text/plain": [
       "Set{String} with 1 element:\n",
       "  \"3\""
      ]
     },
     "execution_count": 71,
     "metadata": {},
     "output_type": "execute_result"
    }
   ],
   "source": [
    "intersect(s_b, s_b2)"
   ]
  },
  {
   "cell_type": "code",
   "execution_count": 72,
   "id": "216eb888",
   "metadata": {},
   "outputs": [
    {
     "data": {
      "text/plain": [
       "Set{String} with 2 elements:\n",
       "  \"1\"\n",
       "  \"2\""
      ]
     },
     "execution_count": 72,
     "metadata": {},
     "output_type": "execute_result"
    }
   ],
   "source": [
    "setdiff(s_b, s_b2)"
   ]
  },
  {
   "cell_type": "code",
   "execution_count": 73,
   "id": "6d20555b",
   "metadata": {},
   "outputs": [
    {
     "data": {
      "text/plain": [
       "Set{String} with 2 elements:\n",
       "  \"4\"\n",
       "  \"5\""
      ]
     },
     "execution_count": 73,
     "metadata": {},
     "output_type": "execute_result"
    }
   ],
   "source": [
    "setdiff(s_b2, s_b)"
   ]
  },
  {
   "cell_type": "code",
   "execution_count": 75,
   "id": "b1ea5aa5",
   "metadata": {},
   "outputs": [
    {
     "data": {
      "text/plain": [
       "Set{String} with 4 elements:\n",
       "  \"4\"\n",
       "  \"5\"\n",
       "  \"6\"\n",
       "  \"3\""
      ]
     },
     "execution_count": 75,
     "metadata": {},
     "output_type": "execute_result"
    }
   ],
   "source": [
    "push!(s_b2, \"6\")"
   ]
  },
  {
   "cell_type": "code",
   "execution_count": null,
   "id": "7f12da53",
   "metadata": {},
   "outputs": [],
   "source": []
  }
 ],
 "metadata": {
  "kernelspec": {
   "display_name": "Julia 1.6.4",
   "language": "julia",
   "name": "julia-1.6"
  },
  "language_info": {
   "file_extension": ".jl",
   "mimetype": "application/julia",
   "name": "julia",
   "version": "1.6.4"
  }
 },
 "nbformat": 4,
 "nbformat_minor": 5
}
